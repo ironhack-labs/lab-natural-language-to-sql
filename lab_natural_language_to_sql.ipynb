{
  "cells": [
    {
      "cell_type": "markdown",
      "metadata": {
        "id": "1yFnrczEWDMm"
      },
      "source": [
        "# Natural language to SQL\n",
        "\n",
        "**Run in [Google Colab](https://colab.research.google.com/) For GPU.**\n",
        "\n",
        "This model have  Mistral as a base and it has been fine-tuned to excel in SQL code generation."
      ]
    },
    {
      "cell_type": "code",
      "execution_count": 74,
      "metadata": {
        "id": "kwUhBRwaLVZI",
        "colab": {
          "base_uri": "https://localhost:8080/",
          "height": 263
        },
        "outputId": "832aef4b-28d9-4236-b8c5-2d93e4ed940e"
      },
      "outputs": [
        {
          "output_type": "error",
          "ename": "NotebookAccessError",
          "evalue": "Notebook does not have access to secret HF_TOKEN",
          "traceback": [
            "\u001b[0;31m---------------------------------------------------------------------------\u001b[0m",
            "\u001b[0;31mNotebookAccessError\u001b[0m                       Traceback (most recent call last)",
            "\u001b[0;32m<ipython-input-74-d2843ec16104>\u001b[0m in \u001b[0;36m<cell line: 2>\u001b[0;34m()\u001b[0m\n\u001b[1;32m      1\u001b[0m \u001b[0;32mfrom\u001b[0m \u001b[0mgoogle\u001b[0m\u001b[0;34m.\u001b[0m\u001b[0mcolab\u001b[0m \u001b[0;32mimport\u001b[0m \u001b[0muserdata\u001b[0m\u001b[0;34m\u001b[0m\u001b[0;34m\u001b[0m\u001b[0m\n\u001b[0;32m----> 2\u001b[0;31m \u001b[0muserdata\u001b[0m\u001b[0;34m.\u001b[0m\u001b[0mget\u001b[0m\u001b[0;34m(\u001b[0m\u001b[0;34m'HF_TOKEN'\u001b[0m\u001b[0;34m)\u001b[0m\u001b[0;34m\u001b[0m\u001b[0;34m\u001b[0m\u001b[0m\n\u001b[0m",
            "\u001b[0;32m/usr/local/lib/python3.10/dist-packages/google/colab/userdata.py\u001b[0m in \u001b[0;36mget\u001b[0;34m(key)\u001b[0m\n\u001b[1;32m     68\u001b[0m     \u001b[0;32mraise\u001b[0m \u001b[0mSecretNotFoundError\u001b[0m\u001b[0;34m(\u001b[0m\u001b[0mkey\u001b[0m\u001b[0;34m)\u001b[0m\u001b[0;34m\u001b[0m\u001b[0;34m\u001b[0m\u001b[0m\n\u001b[1;32m     69\u001b[0m   \u001b[0;32mif\u001b[0m \u001b[0;32mnot\u001b[0m \u001b[0mresp\u001b[0m\u001b[0;34m.\u001b[0m\u001b[0mget\u001b[0m\u001b[0;34m(\u001b[0m\u001b[0;34m'access'\u001b[0m\u001b[0;34m,\u001b[0m \u001b[0;32mFalse\u001b[0m\u001b[0;34m)\u001b[0m\u001b[0;34m:\u001b[0m\u001b[0;34m\u001b[0m\u001b[0;34m\u001b[0m\u001b[0m\n\u001b[0;32m---> 70\u001b[0;31m     \u001b[0;32mraise\u001b[0m \u001b[0mNotebookAccessError\u001b[0m\u001b[0;34m(\u001b[0m\u001b[0mkey\u001b[0m\u001b[0;34m)\u001b[0m\u001b[0;34m\u001b[0m\u001b[0;34m\u001b[0m\u001b[0m\n\u001b[0m\u001b[1;32m     71\u001b[0m   \u001b[0;32mreturn\u001b[0m \u001b[0mresp\u001b[0m\u001b[0;34m.\u001b[0m\u001b[0mget\u001b[0m\u001b[0;34m(\u001b[0m\u001b[0;34m'payload'\u001b[0m\u001b[0;34m,\u001b[0m \u001b[0;34m''\u001b[0m\u001b[0;34m)\u001b[0m\u001b[0;34m\u001b[0m\u001b[0;34m\u001b[0m\u001b[0m\n",
            "\u001b[0;31mNotebookAccessError\u001b[0m: Notebook does not have access to secret HF_TOKEN"
          ]
        }
      ],
      "source": [
        "from google.colab import userdata\n",
        "userdata.get('HF_TOKEN')"
      ]
    },
    {
      "cell_type": "code",
      "execution_count": 2,
      "metadata": {
        "colab": {
          "base_uri": "https://localhost:8080/"
        },
        "id": "8VNBGXh9V952",
        "outputId": "8c9df255-7f31-4a0b-f0c1-eefedd02d745",
        "tags": []
      },
      "outputs": [
        {
          "output_type": "stream",
          "name": "stdout",
          "text": [
            "  Installing build dependencies ... \u001b[?25l\u001b[?25hdone\n",
            "  Getting requirements to build wheel ... \u001b[?25l\u001b[?25hdone\n",
            "  Preparing metadata (pyproject.toml) ... \u001b[?25l\u001b[?25hdone\n",
            "  Building wheel for peft (pyproject.toml) ... \u001b[?25l\u001b[?25hdone\n",
            "Collecting git+https://github.com/huggingface/accelerate.git\n",
            "  Cloning https://github.com/huggingface/accelerate.git to /tmp/pip-req-build-ar0j2g2x\n",
            "  Running command git clone --filter=blob:none --quiet https://github.com/huggingface/accelerate.git /tmp/pip-req-build-ar0j2g2x\n",
            "  Resolved https://github.com/huggingface/accelerate.git to commit f0b030554cbcd01c5541c449e92066715f21a99e\n",
            "  Installing build dependencies ... \u001b[?25l\u001b[?25hdone\n",
            "  Getting requirements to build wheel ... \u001b[?25l\u001b[?25hdone\n",
            "  Preparing metadata (pyproject.toml) ... \u001b[?25l\u001b[?25hdone\n",
            "Requirement already satisfied: numpy<3.0.0,>=1.17 in /usr/local/lib/python3.10/dist-packages (from accelerate==1.2.0.dev0) (1.26.4)\n",
            "Requirement already satisfied: packaging>=20.0 in /usr/local/lib/python3.10/dist-packages (from accelerate==1.2.0.dev0) (24.2)\n",
            "Requirement already satisfied: psutil in /usr/local/lib/python3.10/dist-packages (from accelerate==1.2.0.dev0) (5.9.5)\n",
            "Requirement already satisfied: pyyaml in /usr/local/lib/python3.10/dist-packages (from accelerate==1.2.0.dev0) (6.0.2)\n",
            "Requirement already satisfied: torch>=2.0.0 in /usr/local/lib/python3.10/dist-packages (from accelerate==1.2.0.dev0) (2.5.1+cu121)\n",
            "Requirement already satisfied: huggingface_hub>=0.21.0 in /usr/local/lib/python3.10/dist-packages (from accelerate==1.2.0.dev0) (0.27.0)\n",
            "Requirement already satisfied: safetensors>=0.4.3 in /usr/local/lib/python3.10/dist-packages (from accelerate==1.2.0.dev0) (0.4.5)\n",
            "Requirement already satisfied: filelock in /usr/local/lib/python3.10/dist-packages (from huggingface_hub>=0.21.0->accelerate==1.2.0.dev0) (3.16.1)\n",
            "Requirement already satisfied: fsspec>=2023.5.0 in /usr/local/lib/python3.10/dist-packages (from huggingface_hub>=0.21.0->accelerate==1.2.0.dev0) (2024.10.0)\n",
            "Requirement already satisfied: requests in /usr/local/lib/python3.10/dist-packages (from huggingface_hub>=0.21.0->accelerate==1.2.0.dev0) (2.32.3)\n",
            "Requirement already satisfied: tqdm>=4.42.1 in /usr/local/lib/python3.10/dist-packages (from huggingface_hub>=0.21.0->accelerate==1.2.0.dev0) (4.67.1)\n",
            "Requirement already satisfied: typing-extensions>=3.7.4.3 in /usr/local/lib/python3.10/dist-packages (from huggingface_hub>=0.21.0->accelerate==1.2.0.dev0) (4.12.2)\n",
            "Requirement already satisfied: networkx in /usr/local/lib/python3.10/dist-packages (from torch>=2.0.0->accelerate==1.2.0.dev0) (3.4.2)\n",
            "Requirement already satisfied: jinja2 in /usr/local/lib/python3.10/dist-packages (from torch>=2.0.0->accelerate==1.2.0.dev0) (3.1.4)\n",
            "Requirement already satisfied: sympy==1.13.1 in /usr/local/lib/python3.10/dist-packages (from torch>=2.0.0->accelerate==1.2.0.dev0) (1.13.1)\n",
            "Requirement already satisfied: mpmath<1.4,>=1.1.0 in /usr/local/lib/python3.10/dist-packages (from sympy==1.13.1->torch>=2.0.0->accelerate==1.2.0.dev0) (1.3.0)\n",
            "Requirement already satisfied: MarkupSafe>=2.0 in /usr/local/lib/python3.10/dist-packages (from jinja2->torch>=2.0.0->accelerate==1.2.0.dev0) (3.0.2)\n",
            "Requirement already satisfied: charset-normalizer<4,>=2 in /usr/local/lib/python3.10/dist-packages (from requests->huggingface_hub>=0.21.0->accelerate==1.2.0.dev0) (3.4.0)\n",
            "Requirement already satisfied: idna<4,>=2.5 in /usr/local/lib/python3.10/dist-packages (from requests->huggingface_hub>=0.21.0->accelerate==1.2.0.dev0) (3.10)\n",
            "Requirement already satisfied: urllib3<3,>=1.21.1 in /usr/local/lib/python3.10/dist-packages (from requests->huggingface_hub>=0.21.0->accelerate==1.2.0.dev0) (2.2.3)\n",
            "Requirement already satisfied: certifi>=2017.4.17 in /usr/local/lib/python3.10/dist-packages (from requests->huggingface_hub>=0.21.0->accelerate==1.2.0.dev0) (2024.12.14)\n",
            "Building wheels for collected packages: accelerate\n",
            "  Building wheel for accelerate (pyproject.toml) ... \u001b[?25l\u001b[?25hdone\n",
            "  Created wheel for accelerate: filename=accelerate-1.2.0.dev0-py3-none-any.whl size=336694 sha256=f8ea1bd12170b5473c971c72fb856712918c6d5f5a0ba71944a2399d178ba799\n",
            "  Stored in directory: /tmp/pip-ephem-wheel-cache-z4lf6o3_/wheels/9c/a3/1e/47368f9b6575655fe9ee1b6350cfa7d4b0befe66a35f8a8365\n",
            "Successfully built accelerate\n",
            "Installing collected packages: accelerate\n",
            "  Attempting uninstall: accelerate\n",
            "    Found existing installation: accelerate 1.2.1\n",
            "    Uninstalling accelerate-1.2.1:\n",
            "      Successfully uninstalled accelerate-1.2.1\n",
            "Successfully installed accelerate-1.2.0.dev0\n",
            "Collecting git+https://github.com/huggingface/transformers.git\n",
            "  Cloning https://github.com/huggingface/transformers.git to /tmp/pip-req-build-wh5vq2qq\n",
            "  Running command git clone --filter=blob:none --quiet https://github.com/huggingface/transformers.git /tmp/pip-req-build-wh5vq2qq\n",
            "  Resolved https://github.com/huggingface/transformers.git to commit c61fcde910c34c983ec2c3da2ed41bba3601313f\n",
            "  Installing build dependencies ... \u001b[?25l\u001b[?25hdone\n",
            "  Getting requirements to build wheel ... \u001b[?25l\u001b[?25hdone\n",
            "  Preparing metadata (pyproject.toml) ... \u001b[?25l\u001b[?25hdone\n",
            "Requirement already satisfied: filelock in /usr/local/lib/python3.10/dist-packages (from transformers==4.49.0.dev0) (3.16.1)\n",
            "Requirement already satisfied: huggingface-hub<1.0,>=0.24.0 in /usr/local/lib/python3.10/dist-packages (from transformers==4.49.0.dev0) (0.27.0)\n",
            "Requirement already satisfied: numpy>=1.17 in /usr/local/lib/python3.10/dist-packages (from transformers==4.49.0.dev0) (1.26.4)\n",
            "Requirement already satisfied: packaging>=20.0 in /usr/local/lib/python3.10/dist-packages (from transformers==4.49.0.dev0) (24.2)\n",
            "Requirement already satisfied: pyyaml>=5.1 in /usr/local/lib/python3.10/dist-packages (from transformers==4.49.0.dev0) (6.0.2)\n",
            "Requirement already satisfied: regex!=2019.12.17 in /usr/local/lib/python3.10/dist-packages (from transformers==4.49.0.dev0) (2024.11.6)\n",
            "Requirement already satisfied: requests in /usr/local/lib/python3.10/dist-packages (from transformers==4.49.0.dev0) (2.32.3)\n",
            "Requirement already satisfied: tokenizers<0.22,>=0.21 in /usr/local/lib/python3.10/dist-packages (from transformers==4.49.0.dev0) (0.21.0)\n",
            "Requirement already satisfied: safetensors>=0.4.1 in /usr/local/lib/python3.10/dist-packages (from transformers==4.49.0.dev0) (0.4.5)\n",
            "Requirement already satisfied: tqdm>=4.27 in /usr/local/lib/python3.10/dist-packages (from transformers==4.49.0.dev0) (4.67.1)\n",
            "Requirement already satisfied: fsspec>=2023.5.0 in /usr/local/lib/python3.10/dist-packages (from huggingface-hub<1.0,>=0.24.0->transformers==4.49.0.dev0) (2024.10.0)\n",
            "Requirement already satisfied: typing-extensions>=3.7.4.3 in /usr/local/lib/python3.10/dist-packages (from huggingface-hub<1.0,>=0.24.0->transformers==4.49.0.dev0) (4.12.2)\n",
            "Requirement already satisfied: charset-normalizer<4,>=2 in /usr/local/lib/python3.10/dist-packages (from requests->transformers==4.49.0.dev0) (3.4.0)\n",
            "Requirement already satisfied: idna<4,>=2.5 in /usr/local/lib/python3.10/dist-packages (from requests->transformers==4.49.0.dev0) (3.10)\n",
            "Requirement already satisfied: urllib3<3,>=1.21.1 in /usr/local/lib/python3.10/dist-packages (from requests->transformers==4.49.0.dev0) (2.2.3)\n",
            "Requirement already satisfied: certifi>=2017.4.17 in /usr/local/lib/python3.10/dist-packages (from requests->transformers==4.49.0.dev0) (2024.12.14)\n",
            "Building wheels for collected packages: transformers\n",
            "  Building wheel for transformers (pyproject.toml) ... \u001b[?25l\u001b[?25hdone\n",
            "  Created wheel for transformers: filename=transformers-4.49.0.dev0-py3-none-any.whl size=10471864 sha256=6071b5875a46ca875e309eb8b74eb8e4fc8ef7c08ca325a98bf6ee2c384852ec\n",
            "  Stored in directory: /tmp/pip-ephem-wheel-cache-5l2g9obk/wheels/e7/9c/5b/e1a9c8007c343041e61cc484433d512ea9274272e3fcbe7c16\n",
            "Successfully built transformers\n",
            "Installing collected packages: transformers\n",
            "  Attempting uninstall: transformers\n",
            "    Found existing installation: transformers 4.47.1\n",
            "    Uninstalling transformers-4.47.1:\n",
            "      Successfully uninstalled transformers-4.47.1\n",
            "Successfully installed transformers-4.49.0.dev0\n",
            "Collecting bitsandbytes\n",
            "  Downloading bitsandbytes-0.45.0-py3-none-manylinux_2_24_x86_64.whl.metadata (2.9 kB)\n",
            "Requirement already satisfied: torch in /usr/local/lib/python3.10/dist-packages (from bitsandbytes) (2.5.1+cu121)\n",
            "Requirement already satisfied: numpy in /usr/local/lib/python3.10/dist-packages (from bitsandbytes) (1.26.4)\n",
            "Requirement already satisfied: typing_extensions>=4.8.0 in /usr/local/lib/python3.10/dist-packages (from bitsandbytes) (4.12.2)\n",
            "Requirement already satisfied: filelock in /usr/local/lib/python3.10/dist-packages (from torch->bitsandbytes) (3.16.1)\n",
            "Requirement already satisfied: networkx in /usr/local/lib/python3.10/dist-packages (from torch->bitsandbytes) (3.4.2)\n",
            "Requirement already satisfied: jinja2 in /usr/local/lib/python3.10/dist-packages (from torch->bitsandbytes) (3.1.4)\n",
            "Requirement already satisfied: fsspec in /usr/local/lib/python3.10/dist-packages (from torch->bitsandbytes) (2024.10.0)\n",
            "Requirement already satisfied: sympy==1.13.1 in /usr/local/lib/python3.10/dist-packages (from torch->bitsandbytes) (1.13.1)\n",
            "Requirement already satisfied: mpmath<1.4,>=1.1.0 in /usr/local/lib/python3.10/dist-packages (from sympy==1.13.1->torch->bitsandbytes) (1.3.0)\n",
            "Requirement already satisfied: MarkupSafe>=2.0 in /usr/local/lib/python3.10/dist-packages (from jinja2->torch->bitsandbytes) (3.0.2)\n",
            "Downloading bitsandbytes-0.45.0-py3-none-manylinux_2_24_x86_64.whl (69.1 MB)\n",
            "\u001b[2K   \u001b[90m━━━━━━━━━━━━━━━━━━━━━━━━━━━━━━━━━━━━━━━━\u001b[0m \u001b[32m69.1/69.1 MB\u001b[0m \u001b[31m9.9 MB/s\u001b[0m eta \u001b[36m0:00:00\u001b[0m\n",
            "\u001b[?25hInstalling collected packages: bitsandbytes\n",
            "Successfully installed bitsandbytes-0.45.0\n"
          ]
        }
      ],
      "source": [
        "#Install the lastest versions of peft & transformers library recommended\n",
        "#if you want to work with the most recent models\n",
        "!pip install -q git+https://github.com/huggingface/peft.git\n",
        "!pip install git+https://github.com/huggingface/accelerate.git\n",
        "!pip install git+https://github.com/huggingface/transformers.git\n",
        "!pip install bitsandbytes"
      ]
    },
    {
      "cell_type": "code",
      "execution_count": 55,
      "metadata": {
        "id": "U1mZ27vbXBCE",
        "tags": []
      },
      "outputs": [],
      "source": [
        "from transformers import AutoModelForCausalLM, AutoTokenizer, BitsAndBytesConfig\n",
        "import torch\n",
        "import accelerate"
      ]
    },
    {
      "cell_type": "code",
      "execution_count": 56,
      "metadata": {
        "id": "rotsX3i-XLJS",
        "tags": []
      },
      "outputs": [],
      "source": [
        "model_name = \"defog/sqlcoder-7b\""
      ]
    },
    {
      "cell_type": "markdown",
      "metadata": {
        "id": "2fHZsPTa5yun"
      },
      "source": [
        "We need to create the Quantization configuration to load the Model.\n",
        "\n",
        "It is a large model and I want it to fit in a 16GB GPU, I'm going to use a 4 bits quantization.\n",
        "\n",
        "If you want to learn more about quantization, refer to this article: [QLoRA: Training a Large Language Model on a 16GB GPU.](https://medium.com/towards-artificial-intelligence/qlora-training-a-large-language-model-on-a-16gb-gpu-00ea965667c1)\n",
        "\n",
        "You can try to use this model in a 8 bit quantizations and check in you see any improvements in the results."
      ]
    },
    {
      "cell_type": "code",
      "execution_count": 57,
      "metadata": {
        "id": "Oio2Fm7GXa6K",
        "tags": []
      },
      "outputs": [],
      "source": [
        "bnb_config = BitsAndBytesConfig(\n",
        "  load_in_4bit=True,\n",
        "  bnb_4bit_use_double_quant=True,\n",
        "  bnb_4bit_quant_type=\"nf4\",\n",
        "  bnb_4bit_compute_dtype=torch.bfloat16\n",
        ")\n"
      ]
    },
    {
      "cell_type": "markdown",
      "metadata": {
        "id": "915oTn7T6fvW"
      },
      "source": [
        "To load the model I pass to the AutoModelForCasualLM teh quantization configurations, and HuggingFace take care of all the hard work."
      ]
    },
    {
      "cell_type": "code",
      "execution_count": 58,
      "metadata": {
        "colab": {
          "base_uri": "https://localhost:8080/",
          "height": 49,
          "referenced_widgets": [
            "09c340e4a1f149548e18bc155bfcbe52",
            "41a364ed8dbe44e99f5cf1a0ad151173",
            "8e29bf6aa7ef4232bacfd525d37a880f",
            "bc46eaa45ccc4cf491bb78f41efd7301",
            "87a59922cd7b4622890516e7aca77bf5",
            "8e4d6ed6a1f743c8833c7ebf96ad9f10",
            "088d4d89b9974c52b510e82a9544b378",
            "a879b195702f4ad19149666589be9110",
            "e2246da7b563473e996df0b1985c3bbb",
            "18c87510ef89485f8b10ad5c8867cb66",
            "f4430edd9bde4e7e81374e2efcb048c1"
          ]
        },
        "id": "Q8-VpiCBXcst",
        "outputId": "154d145c-8a54-4c19-c780-284209fc8e08",
        "tags": []
      },
      "outputs": [
        {
          "output_type": "display_data",
          "data": {
            "text/plain": [
              "Loading checkpoint shards:   0%|          | 0/2 [00:00<?, ?it/s]"
            ],
            "application/vnd.jupyter.widget-view+json": {
              "version_major": 2,
              "version_minor": 0,
              "model_id": "09c340e4a1f149548e18bc155bfcbe52"
            }
          },
          "metadata": {}
        }
      ],
      "source": [
        "foundation_model = AutoModelForCausalLM.from_pretrained(model_name,\n",
        "                    quantization_config=bnb_config,\n",
        "                    device_map='auto',\n",
        "                    use_cache = True)"
      ]
    },
    {
      "cell_type": "code",
      "execution_count": 59,
      "metadata": {
        "id": "E2Oz6Sm8X5Qo",
        "tags": []
      },
      "outputs": [],
      "source": [
        "tokenizer = AutoTokenizer.from_pretrained(model_name)\n",
        "eos_token_id = tokenizer.convert_tokens_to_ids([\"```\"])[0]"
      ]
    },
    {
      "cell_type": "markdown",
      "metadata": {
        "id": "NV-Qk6327Z30"
      },
      "source": [
        "This function wraps the call to *model.generate*"
      ]
    },
    {
      "cell_type": "code",
      "execution_count": 60,
      "metadata": {
        "id": "l4vEDNRGtvdn"
      },
      "outputs": [],
      "source": [
        "#this function returns the outputs from the model received, and inputs.\n",
        "def get_outputs(model, inputs, max_new_tokens=400):\n",
        "    outputs = model.generate(\n",
        "        input_ids=inputs[\"input_ids\"],\n",
        "        attention_mask=inputs[\"attention_mask\"],\n",
        "        num_return_sequences=1,\n",
        "        eos_token_id=eos_token_id,\n",
        "        pad_token_id=eos_token_id,\n",
        "        max_new_tokens=max_new_tokens,\n",
        "        do_sample=False,\n",
        "        num_beams=5\n",
        "    )\n",
        "    return outputs"
      ]
    },
    {
      "cell_type": "markdown",
      "metadata": {
        "id": "y88PVExjKCvQ"
      },
      "source": [
        "# Prompt without Shots.\n",
        "In this first PROMPT we are going to give Instructions to the model and pass the structure of the Database.\n",
        "\n",
        "The instructions are significantly different from those we are passing to GPT-3.5-Turbo. This model is really well fine-tuned, but it is smaller than GPT-3.5.\n",
        "\n",
        "We need to be more clear with the instructions, as it does not have the same capacity to understand our orders as GPT-3.5."
      ]
    },
    {
      "cell_type": "code",
      "execution_count": 30,
      "metadata": {
        "id": "U8K4XWDQJH_p"
      },
      "outputs": [],
      "source": [
        "sp_nl2sql = \"\"\"\n",
        "    ### Instructions:\n",
        "Your task is convert a question into a SQL query, given a SQL database schema.\n",
        "Adhere to these rules:\n",
        "- **Deliberately go through the question and database schema word by word** to appropriately answer the question\n",
        "\n",
        "    ### Input\n",
        "    Generate an SQL query that answers the question below.\n",
        "    This query will run on a database whose schema is represented in this string:\n",
        "\n",
        "    CREATE TABLE Employees (\n",
        "        EmployeeID int,\n",
        "        Name varchar(255),\n",
        "        Position varchar(255),\n",
        "        Salary int\n",
        "    );\n",
        "    CREATE TABLE Departments (\n",
        "        DepartmentID int,\n",
        "        DepartmentName varchar(255)\n",
        "    );\n",
        "    CREATE TABLE EmployeeDepartment (\n",
        "        EmployeeID int,\n",
        "        DepartmentID int\n",
        "    );\n",
        "\n",
        "    ### Response\n",
        "    Based on your instructions, here is the SQL query I have generated to answer the question\n",
        "    `Find all employees in the 'Engineering' department`:\n",
        "    ```sql3\n",
        "    \"\"\""
      ]
    },
    {
      "cell_type": "code",
      "execution_count": 31,
      "metadata": {
        "colab": {
          "base_uri": "https://localhost:8080/"
        },
        "id": "tIgEZpmSlG0I",
        "outputId": "e6acd2b1-3378-43c4-9b4c-6546c41a6b03"
      },
      "outputs": [
        {
          "output_type": "stream",
          "name": "stdout",
          "text": [
            "\n",
            "    ### Instructions:\n",
            "Your task is convert a question into a SQL query, given a SQL database schema.\n",
            "Adhere to these rules:\n",
            "- **Deliberately go through the question and database schema word by word** to appropriately answer the question\n",
            "\n",
            "    ### Input\n",
            "    Generate an SQL query that answers the question below.\n",
            "    This query will run on a database whose schema is represented in this string:\n",
            "\n",
            "    CREATE TABLE Employees (\n",
            "        EmployeeID int,\n",
            "        Name varchar(255),\n",
            "        Position varchar(255),\n",
            "        Salary int\n",
            "    );\n",
            "    CREATE TABLE Departments (\n",
            "        DepartmentID int,\n",
            "        DepartmentName varchar(255)\n",
            "    );\n",
            "    CREATE TABLE EmployeeDepartment (\n",
            "        EmployeeID int,\n",
            "        DepartmentID int\n",
            "    );\n",
            "\n",
            "    ### Response\n",
            "    Based on your instructions, here is the SQL query I have generated to answer the question\n",
            "    `Find all employees in the 'Engineering' department`:\n",
            "    ```sql3\n",
            "    \n"
          ]
        }
      ],
      "source": [
        "sp_nl2sql = sp_nl2sql.format(question=\"Find all employees in the 'Engineering' department\")\n",
        "print(sp_nl2sql)"
      ]
    },
    {
      "cell_type": "code",
      "execution_count": 32,
      "metadata": {
        "id": "Mp3TDRQtltX9"
      },
      "outputs": [],
      "source": [
        "input_sentences = tokenizer(sp_nl2sql, return_tensors=\"pt\").to('cuda')\n",
        "response = get_outputs(foundation_model, input_sentences, max_new_tokens=400)\n",
        "SQL = tokenizer.batch_decode(response, skip_special_tokens=True)"
      ]
    },
    {
      "cell_type": "code",
      "execution_count": 33,
      "metadata": {
        "id": "hWouSh-7rpCk"
      },
      "outputs": [],
      "source": [
        "#Empty the cache in orde to do more calls without problems.\n",
        "torch.cuda.empty_cache()"
      ]
    },
    {
      "cell_type": "code",
      "execution_count": 34,
      "metadata": {
        "colab": {
          "base_uri": "https://localhost:8080/"
        },
        "id": "g0V5XuDp0sCi",
        "outputId": "6f33168b-8fa1-47a6-c4a7-e1efde4bcd11"
      },
      "outputs": [
        {
          "output_type": "stream",
          "name": "stdout",
          "text": [
            "SELECT Employees.EmployeeID, Employees.Name, Employees.Salary FROM Employees JOIN EmployeeDepartment ON Employees.EmployeeID = EmployeeDepartment.EmployeeID JOIN Departments ON EmployeeDepartment.DepartmentID = Departments.DepartmentID WHERE Departments.DepartmentName ILIKE '%Engineering%' ORDER BY Employees.EmployeeID NULLS LAST;\n"
          ]
        }
      ],
      "source": [
        "print(SQL[0].split(\"```sql3\")[-1].split(\"```\")[0].split(\";\")[0].strip() + \";\")"
      ]
    },
    {
      "cell_type": "markdown",
      "metadata": {
        "id": "VKrjztcK-zDm"
      },
      "source": [
        "The SQL Order is correct."
      ]
    },
    {
      "cell_type": "markdown",
      "metadata": {
        "id": "d0hogn4fKP1f"
      },
      "source": [
        "#Prompt with shots OpenAI Style.\n",
        "In this second prompt we are going to add some Shots with samples to see if our SQL style affects the model."
      ]
    },
    {
      "cell_type": "code",
      "execution_count": 35,
      "metadata": {
        "id": "qNPXi3twuN7-"
      },
      "outputs": [],
      "source": [
        "sp_nl2sql2 = \"\"\"\n",
        "    ### Instructions:\n",
        "Your task is convert a question into a SQL query, given a SQL database schema.\n",
        "Adhere to these rules:\n",
        "- **Deliberately go through the question and database schema word by word** to appropriately answer the question\n",
        "- **Use the samples SQL In the ### Samples section to learn more about the database's structure**\n",
        "\n",
        "    ### Input\n",
        "    Generate a SQL query that answers the question below.\n",
        "    This query will run on a database whose schema is represented in this string:\n",
        "\n",
        "    CREATE TABLE Employees (\n",
        "        EmployeeID int,\n",
        "        Name varchar(255),\n",
        "        Position varchar(255),\n",
        "        Salary int\n",
        "    );\n",
        "    CREATE TABLE Departments (\n",
        "        DepartmentID int,\n",
        "        DepartmentName varchar(255)\n",
        "    );\n",
        "    CREATE TABLE EmployeeDepartment (\n",
        "        EmployeeID int,\n",
        "        DepartmentID int\n",
        "    );\n",
        "\n",
        "    ### Samples\n",
        "    Given the schema provided, here are some sample questions and their corresponding SQL queries:\n",
        "\n",
        "    Question: Find the names of all employees in the 'Sales' department.\n",
        "    SQL Query:\n",
        "    ```sql\n",
        "    SELECT e.Name\n",
        "    FROM Employees e\n",
        "    JOIN EmployeeDepartment ed ON e.EmployeeID = ed.EmployeeID\n",
        "    JOIN Departments d ON ed.DepartmentID = d.DepartmentID\n",
        "    WHERE d.DepartmentName = 'Sales';\n",
        "    ```\n",
        "\n",
        "    Question: List the departments and the number of employees in each.\n",
        "    SQL Query:\n",
        "    ```sql\n",
        "    SELECT d.DepartmentName, COUNT(ed.EmployeeID) as NumberOfEmployees\n",
        "    FROM Departments d\n",
        "    LEFT JOIN EmployeeDepartment ed ON d.DepartmentID = ed.DepartmentID\n",
        "    GROUP BY d.DepartmentName;\n",
        "    ```\n",
        "\n",
        "    ### Response\n",
        "    Based on your instructions, here is the SQL query generated to answer the question\n",
        "    `Return the name of the best paid employee`:\n",
        "    ```sql3\n",
        "    \"\"\"\n"
      ]
    },
    {
      "cell_type": "code",
      "execution_count": 36,
      "metadata": {
        "colab": {
          "base_uri": "https://localhost:8080/"
        },
        "id": "7vy338SDLr5u",
        "outputId": "fba953dc-fcb9-4022-90cd-4c8de66e1586"
      },
      "outputs": [
        {
          "output_type": "stream",
          "name": "stdout",
          "text": [
            "\n",
            "    ### Instructions:\n",
            "Your task is convert a question into a SQL query, given a SQL database schema.\n",
            "Adhere to these rules:\n",
            "- **Deliberately go through the question and database schema word by word** to appropriately answer the question\n",
            "- **Use the samples SQL In the ### Samples section to learn more about the database's structure**\n",
            "\n",
            "    ### Input\n",
            "    Generate a SQL query that answers the question below.\n",
            "    This query will run on a database whose schema is represented in this string:\n",
            "\n",
            "    CREATE TABLE Employees (\n",
            "        EmployeeID int,\n",
            "        Name varchar(255),\n",
            "        Position varchar(255),\n",
            "        Salary int\n",
            "    );\n",
            "    CREATE TABLE Departments (\n",
            "        DepartmentID int,\n",
            "        DepartmentName varchar(255)\n",
            "    );\n",
            "    CREATE TABLE EmployeeDepartment (\n",
            "        EmployeeID int,\n",
            "        DepartmentID int\n",
            "    );\n",
            "\n",
            "    ### Samples\n",
            "    Given the schema provided, here are some sample questions and their corresponding SQL queries:\n",
            "    \n",
            "    Question: Find the names of all employees in the 'Sales' department.\n",
            "    SQL Query:\n",
            "    ```sql\n",
            "    SELECT e.Name \n",
            "    FROM Employees e\n",
            "    JOIN EmployeeDepartment ed ON e.EmployeeID = ed.EmployeeID\n",
            "    JOIN Departments d ON ed.DepartmentID = d.DepartmentID\n",
            "    WHERE d.DepartmentName = 'Sales';\n",
            "    ```\n",
            "\n",
            "    Question: List the departments and the number of employees in each.\n",
            "    SQL Query:\n",
            "    ```sql\n",
            "    SELECT d.DepartmentName, COUNT(ed.EmployeeID) as NumberOfEmployees\n",
            "    FROM Departments d\n",
            "    LEFT JOIN EmployeeDepartment ed ON d.DepartmentID = ed.DepartmentID\n",
            "    GROUP BY d.DepartmentName;\n",
            "    ```\n",
            "\n",
            "    ### Response\n",
            "    Based on your instructions, here is the SQL query generated to answer the question\n",
            "    `Return the name of the best paid employee`:\n",
            "    ```sql3\n",
            "    \n"
          ]
        }
      ],
      "source": [
        "sp_nl2sql2 = sp_nl2sql2.format(question=\"Return The name of the best paid employee\")\n",
        "(print(sp_nl2sql2))"
      ]
    },
    {
      "cell_type": "code",
      "execution_count": 37,
      "metadata": {
        "id": "Cvk9hJfhLwQJ"
      },
      "outputs": [],
      "source": [
        "input_sentences = tokenizer(sp_nl2sql2, return_tensors=\"pt\").to('cuda')\n",
        "response = get_outputs(foundation_model, input_sentences, max_new_tokens=400)\n",
        "SQL = tokenizer.batch_decode(response, skip_special_tokens=True)\n",
        "torch.cuda.empty_cache()"
      ]
    },
    {
      "cell_type": "code",
      "execution_count": 38,
      "metadata": {
        "colab": {
          "base_uri": "https://localhost:8080/"
        },
        "id": "EQOyi8ZOL1mr",
        "outputId": "4d1c007c-2a1c-48e2-ca40-c4862102e968"
      },
      "outputs": [
        {
          "output_type": "stream",
          "name": "stdout",
          "text": [
            "SELECT e.name, MAX(e.salary) AS max_salary\n",
            "    FROM Employees e\n",
            "    GROUP BY e.name\n",
            "    ORDER BY max_salary DESC\n",
            "    LIMIT 1;\n"
          ]
        }
      ],
      "source": [
        "print(SQL[0].split(\"```sql3\")[-1].split(\"```\")[0].split(\";\")[0].strip() + \";\")"
      ]
    },
    {
      "cell_type": "markdown",
      "metadata": {
        "id": "buwuhLBw_MAV"
      },
      "source": [
        "The Order is really different from the one obtained with the first prompt.\n",
        "\n",
        "The first difference is the format. But The SQL is realy more simple, at least it is my sensation."
      ]
    },
    {
      "cell_type": "markdown",
      "metadata": {
        "id": "-6S6gI_fNtFk"
      },
      "source": [
        "#Prompt with Shots in Sample Style.\n",
        "\n",
        "In this prompt, we will place the examples in a separate section, and in the instructions, we will instruct the model to pay attention to them in order to generate the SQL commands."
      ]
    },
    {
      "cell_type": "code",
      "execution_count": 39,
      "metadata": {
        "id": "oHSF1l3xNscJ"
      },
      "outputs": [],
      "source": [
        "sp_nl2sql3b = \"\"\"\n",
        "    ### Instructions:\n",
        "Your task is convert a question into a SQL query, given a SQL database schema.\n",
        "Adhere to these rules:\n",
        "- **Deliberately go through the question and database schema word by word** to appropriately answer the question\n",
        "- **Use the samples SQL In the ### Samples section to learn more about the database's structure**\n",
        "\n",
        "    ### Input\n",
        "    Generate a SQL query that answers the question below.\n",
        "    This query will run on a database whose schema is represented in this string:\n",
        "\n",
        "    CREATE TABLE Employees (\n",
        "        EmployeeID int,\n",
        "        Name varchar(255),\n",
        "        Position varchar(255),\n",
        "        Salary int\n",
        "    );\n",
        "    CREATE TABLE Departments (\n",
        "        DepartmentID int,\n",
        "        DepartmentName varchar(255)\n",
        "    );\n",
        "    CREATE TABLE EmployeeDepartment (\n",
        "        EmployeeID int,\n",
        "        DepartmentID int\n",
        "    );\n",
        "\n",
        "    ### Samples\n",
        "    Given the schema provided, here are some sample questions and their corresponding SQL queries:\n",
        "\n",
        "    Question: Find the names of all employees in the 'Sales' department.\n",
        "    SQL Query:\n",
        "    ```sql\n",
        "    SELECT e.Name\n",
        "    FROM Employees e\n",
        "    JOIN EmployeeDepartment ed ON e.EmployeeID = ed.EmployeeID\n",
        "    JOIN Departments d ON ed.DepartmentID = d.DepartmentID\n",
        "    WHERE d.DepartmentName = 'Sales';\n",
        "    ```\n",
        "\n",
        "    Question: List the departments and the number of employees in each.\n",
        "    SQL Query:\n",
        "    ```sql\n",
        "    SELECT d.DepartmentName, COUNT(ed.EmployeeID) as NumberOfEmployees\n",
        "    FROM Departments d\n",
        "    LEFT JOIN EmployeeDepartment ed ON d.DepartmentID = ed.DepartmentID\n",
        "    GROUP BY d.DepartmentName;\n",
        "    ```\n",
        "\n",
        "    ### Response\n",
        "    Based on your instructions, here is the SQL query I have generated to answer the question\n",
        "    `Return the name of the best paid employee`:\n",
        "    ```sql3\n",
        "    \"\"\"\n"
      ]
    },
    {
      "cell_type": "code",
      "execution_count": 40,
      "metadata": {
        "colab": {
          "base_uri": "https://localhost:8080/"
        },
        "id": "DCfbmvDyOS-u",
        "outputId": "1b69bc00-65ff-47f2-bd70-0552c5a76b8a"
      },
      "outputs": [
        {
          "output_type": "stream",
          "name": "stdout",
          "text": [
            "\n",
            "    ### Instructions:\n",
            "Your task is convert a question into a SQL query, given a SQL database schema.\n",
            "Adhere to these rules:\n",
            "- **Deliberately go through the question and database schema word by word** to appropriately answer the question\n",
            "- **Use the samples SQL In the ### Samples section to learn more about the database's structure**\n",
            "\n",
            "    ### Input\n",
            "    Generate a SQL query that answers the question below.\n",
            "    This query will run on a database whose schema is represented in this string:\n",
            "\n",
            "    CREATE TABLE Employees (\n",
            "        EmployeeID int,\n",
            "        Name varchar(255),\n",
            "        Position varchar(255),\n",
            "        Salary int\n",
            "    );\n",
            "    CREATE TABLE Departments (\n",
            "        DepartmentID int,\n",
            "        DepartmentName varchar(255)\n",
            "    );\n",
            "    CREATE TABLE EmployeeDepartment (\n",
            "        EmployeeID int,\n",
            "        DepartmentID int\n",
            "    );\n",
            "    \n",
            "    ### Samples\n",
            "    Given the schema provided, here are some sample questions and their corresponding SQL queries:\n",
            "    \n",
            "    Question: Find the names of all employees in the 'Sales' department.\n",
            "    SQL Query:\n",
            "    ```sql\n",
            "    SELECT e.Name \n",
            "    FROM Employees e\n",
            "    JOIN EmployeeDepartment ed ON e.EmployeeID = ed.EmployeeID\n",
            "    JOIN Departments d ON ed.DepartmentID = d.DepartmentID\n",
            "    WHERE d.DepartmentName = 'Sales';\n",
            "    ```\n",
            "\n",
            "    Question: List the departments and the number of employees in each.\n",
            "    SQL Query:\n",
            "    ```sql\n",
            "    SELECT d.DepartmentName, COUNT(ed.EmployeeID) as NumberOfEmployees\n",
            "    FROM Departments d\n",
            "    LEFT JOIN EmployeeDepartment ed ON d.DepartmentID = ed.DepartmentID\n",
            "    GROUP BY d.DepartmentName;\n",
            "    ```\n",
            "\n",
            "    ### Response\n",
            "    Based on your instructions, here is the SQL query I have generated to answer the question\n",
            "    `Return the name of the best paid employee`:\n",
            "    ```sql3\n",
            "    \n"
          ]
        }
      ],
      "source": [
        "sp_nl2sql3 = sp_nl2sql3b.format(question=\"Return The name of the best paid employee\")\n",
        "print (sp_nl2sql3)"
      ]
    },
    {
      "cell_type": "code",
      "execution_count": 41,
      "metadata": {
        "id": "VxsIf4KBOWCk"
      },
      "outputs": [],
      "source": [
        "input_sentences = tokenizer(sp_nl2sql3, return_tensors=\"pt\").to('cuda')\n",
        "response = get_outputs(foundation_model, input_sentences, max_new_tokens=400)\n",
        "SQL = tokenizer.batch_decode(response, skip_special_tokens=True)\n",
        "torch.cuda.empty_cache()"
      ]
    },
    {
      "cell_type": "code",
      "execution_count": 42,
      "metadata": {
        "colab": {
          "base_uri": "https://localhost:8080/"
        },
        "id": "_sE5_a8jOaJ7",
        "outputId": "a2a22245-8471-406e-c162-74b1e67edccc"
      },
      "outputs": [
        {
          "output_type": "stream",
          "name": "stdout",
          "text": [
            "SELECT e.name, MAX(e.salary) AS max_salary\n",
            "    FROM Employees e\n",
            "    GROUP BY e.name\n",
            "    ORDER BY max_salary DESC\n",
            "    LIMIT 1;\n"
          ]
        }
      ],
      "source": [
        "print(SQL[0].split(\"```sql3\")[-1].split(\"```\")[0].split(\";\")[0].strip() + \";\")"
      ]
    },
    {
      "cell_type": "markdown",
      "metadata": {
        "id": "l5OgzBzKNHzn"
      },
      "source": [
        "#Now the question in spanish.\n"
      ]
    },
    {
      "cell_type": "code",
      "execution_count": 43,
      "metadata": {
        "colab": {
          "base_uri": "https://localhost:8080/"
        },
        "id": "EQuJNMjNFU6a",
        "outputId": "d38218e8-b4f2-486e-e18e-7f7ad6fb70de"
      },
      "outputs": [
        {
          "output_type": "stream",
          "name": "stdout",
          "text": [
            "\n",
            "    ### Instructions:\n",
            "Your task is convert a question into a SQL query, given a SQL database schema.\n",
            "Adhere to these rules:\n",
            "- **Deliberately go through the question and database schema word by word** to appropriately answer the question\n",
            "- **Use the samples SQL In the ### Samples section to learn more about the database's structure**\n",
            "\n",
            "    ### Input\n",
            "    Generate a SQL query that answers the question below.\n",
            "    This query will run on a database whose schema is represented in this string:\n",
            "\n",
            "    CREATE TABLE Employees (\n",
            "        EmployeeID int,\n",
            "        Name varchar(255),\n",
            "        Position varchar(255),\n",
            "        Salary int\n",
            "    );\n",
            "    CREATE TABLE Departments (\n",
            "        DepartmentID int,\n",
            "        DepartmentName varchar(255)\n",
            "    );\n",
            "    CREATE TABLE EmployeeDepartment (\n",
            "        EmployeeID int,\n",
            "        DepartmentID int\n",
            "    );\n",
            "    \n",
            "    ### Samples\n",
            "    Given the schema provided, here are some sample questions and their corresponding SQL queries:\n",
            "    \n",
            "    Question: Find the names of all employees in the 'Sales' department.\n",
            "    SQL Query:\n",
            "    ```sql\n",
            "    SELECT e.Name \n",
            "    FROM Employees e\n",
            "    JOIN EmployeeDepartment ed ON e.EmployeeID = ed.EmployeeID\n",
            "    JOIN Departments d ON ed.DepartmentID = d.DepartmentID\n",
            "    WHERE d.DepartmentName = 'Sales';\n",
            "    ```\n",
            "\n",
            "    Question: List the departments and the number of employees in each.\n",
            "    SQL Query:\n",
            "    ```sql\n",
            "    SELECT d.DepartmentName, COUNT(ed.EmployeeID) as NumberOfEmployees\n",
            "    FROM Departments d\n",
            "    LEFT JOIN EmployeeDepartment ed ON d.DepartmentID = ed.DepartmentID\n",
            "    GROUP BY d.DepartmentName;\n",
            "    ```\n",
            "\n",
            "    ### Response\n",
            "    Based on your instructions, here is the SQL query I have generated to answer the question\n",
            "    `Return the name of the best paid employee`:\n",
            "    ```sql3\n",
            "    \n"
          ]
        }
      ],
      "source": [
        "sp_nl2sql3 = sp_nl2sql3b.format(question=\"Dame el nombre del empleado mejor pagado\")\n",
        "print (sp_nl2sql3)"
      ]
    },
    {
      "cell_type": "code",
      "execution_count": 44,
      "metadata": {
        "id": "rBGokR4RFfrK"
      },
      "outputs": [],
      "source": [
        "input_sentences = tokenizer(sp_nl2sql3, return_tensors=\"pt\").to('cuda')\n",
        "response = get_outputs(foundation_model, input_sentences, max_new_tokens=400)\n",
        "SQL = tokenizer.batch_decode(response, skip_special_tokens=True)\n",
        "torch.cuda.empty_cache()"
      ]
    },
    {
      "cell_type": "code",
      "execution_count": 45,
      "metadata": {
        "colab": {
          "base_uri": "https://localhost:8080/"
        },
        "id": "OEoQgcoUHXXJ",
        "outputId": "5fde0842-1644-4ddc-9eab-f5635fdb90ee"
      },
      "outputs": [
        {
          "output_type": "stream",
          "name": "stdout",
          "text": [
            "SELECT e.name, MAX(e.salary) AS max_salary\n",
            "    FROM Employees e\n",
            "    GROUP BY e.name\n",
            "    ORDER BY max_salary DESC\n",
            "    LIMIT 1;\n"
          ]
        }
      ],
      "source": [
        "print(SQL[0].split(\"```sql3\")[-1].split(\"```\")[0].split(\";\")[0].strip() + \";\")"
      ]
    },
    {
      "cell_type": "markdown",
      "metadata": {
        "id": "pHZn6nGCH2RS"
      },
      "source": [
        "The generated SQL command is the same regardless of where we have placed the examples."
      ]
    },
    {
      "cell_type": "markdown",
      "metadata": {
        "id": "yrHGZjraCYSR"
      },
      "source": [
        "#Conclusions.\n",
        "\n",
        "Let's see the three SQL's together.\n",
        "\n",
        "* SELECT employees.name, MAX(salary.salary) AS max_salary FROM employees JOIN salary ON employees.ID_Usr = salary.ID_Usr GROUP BY employees.name ORDER BY max_salary DESC NULLS LAST LIMIT 1;\n",
        "\n",
        "* SELECT e.name\n",
        "    FROM employees e\n",
        "    JOIN salary s ON e.ID_Usr = s.ID_usr\n",
        "    WHERE s.salary = (SELECT MAX(salary) FROM salary);\n",
        "\n",
        "* SELECT e.name\n",
        "    FROM employees e\n",
        "    JOIN salary s ON e.ID_Usr = s.ID_usr\n",
        "    WHERE s.salary = (SELECT MAX(salary) FROM salary);\n",
        "\n",
        "* Spanish Question: SELECT e.name\n",
        "     FROM employees e\n",
        "     JOIN salary s ON e.ID_Usr = s.ID_Usr\n",
        "     WHERE s.salary = (SELECT MAX(salary) FROM salary)\n",
        "     GROUP BY e.name\n",
        "     ORDER BY COUNT(studies.ID_study) DESC\n",
        "     LIMIT 1;\n",
        "\n",
        "\n",
        "**The model has demonstrated that it is highly efficient in crafting SQL.** Additionally, it pays a lot of attention, perhaps too much, to the examples we provide. Clearly, these examples should be crafted by one of the best SQL programmers we have access to, though their use may not be essential.\n",
        "\n",
        "On the other hand, although the model is clearly very proficient in SQL generation, during the creation of the notebook, I have encountered several issues because the commands need to be extremely clear. It doesn't handle typos well (which should not exist).\n",
        "\n",
        "It appears to have some issues when it receives commands in Spanish. I assume this problem would be present in any language other than English. Therefore, since it's a tool that could be used by non-technical personnel, this should be considered in environments where English is not the primary language."
      ]
    },
    {
      "cell_type": "markdown",
      "metadata": {
        "id": "P45ukTZyHdFE"
      },
      "source": [
        "# Exercise\n",
        " - Complete the prompts similar to what we did in class.\n",
        "     - Try at least 3 versions\n",
        "     - Be creative\n",
        " - Write a one page report summarizing your findings.\n",
        "     - Were there variations that didn't work well? i.e., where GPT either hallucinated or wrong\n",
        " - What did you learn?"
      ]
    },
    {
      "cell_type": "code",
      "execution_count": 63,
      "metadata": {
        "colab": {
          "base_uri": "https://localhost:8080/"
        },
        "id": "-t-mNraBRNBa",
        "outputId": "0a2d7a1d-5f13-4bc8-d447-0b54424df1c2"
      },
      "outputs": [
        {
          "output_type": "stream",
          "name": "stdout",
          "text": [
            "\n",
            "    ### Instructions:\n",
            "Detective, your task is to investigate and convert a question into an SQL query, based on the database schema provided. Adhere to these rules:\n",
            "- **Diligently analyze the question and database schema word by word** to uncover the truth.\n",
            "- **Refer to the sample clues in the ### Samples section to understand the database's structure.**\n",
            "\n",
            "    ### Input\n",
            "    Generate an SQL query that answers the question below.\n",
            "    This query will run on a database whose schema is represented in this string:\n",
            "\n",
            "    CREATE TABLE Suspects (\n",
            "        SuspectID int,\n",
            "        SuspectName varchar(255),\n",
            "        Crime varchar(255),\n",
            "        SentenceLength int\n",
            "    );\n",
            "    CREATE TABLE Crimes (\n",
            "        CrimeID int,\n",
            "        CrimeName varchar(255)\n",
            "    );\n",
            "    CREATE TABLE SuspectCrimes (\n",
            "        SuspectID int,\n",
            "        CrimeID int\n",
            "    );\n",
            "    \n",
            "    ### Samples\n",
            "    Given the schema provided, here are some sample questions and their corresponding SQL clues:\n",
            "    \n",
            "    Question: Uncover the suspects involved in the 'Robbery' crime.\n",
            "    SQL Clue:\n",
            "    ```sql\n",
            "    SELECT s.SuspectName \n",
            "    FROM Suspects s\n",
            "    JOIN SuspectCrimes sc ON s.SuspectID = sc.SuspectID\n",
            "    JOIN Crimes c ON sc.CrimeID = c.CrimeID\n",
            "    WHERE c.CrimeName = 'Robbery';\n",
            "    ```\n",
            "\n",
            "    Question: Identify the crimes and the number of suspects involved in each.\n",
            "    SQL Clue:\n",
            "    ```sql\n",
            "    SELECT c.CrimeName, COUNT(sc.SuspectID) as NumberOfSuspects\n",
            "    FROM Crimes c\n",
            "    LEFT JOIN SuspectCrimes sc ON c.CrimeID = sc.CrimeID\n",
            "    GROUP BY c.CrimeName;\n",
            "    ```\n",
            "\n",
            "    ### Response\n",
            "    Based on your instructions, here is the SQL query I have generated to answer the question\n",
            "    `Return the name of the suspect with the longest sentence`:\n",
            "    ```sql3\n",
            "    \n"
          ]
        }
      ],
      "source": [
        "sp_nl2sql6 = \"\"\"\n",
        "    ### Instructions:\n",
        "Detective, your task is to investigate and convert a question into an SQL query, based on the database schema provided. Adhere to these rules:\n",
        "- **Diligently analyze the question and database schema word by word** to uncover the truth.\n",
        "- **Refer to the sample clues in the ### Samples section to understand the database's structure.**\n",
        "\n",
        "    ### Input\n",
        "    Generate an SQL query that answers the question below.\n",
        "    This query will run on a database whose schema is represented in this string:\n",
        "\n",
        "    CREATE TABLE Suspects (\n",
        "        SuspectID int,\n",
        "        SuspectName varchar(255),\n",
        "        Crime varchar(255),\n",
        "        SentenceLength int\n",
        "    );\n",
        "    CREATE TABLE Crimes (\n",
        "        CrimeID int,\n",
        "        CrimeName varchar(255)\n",
        "    );\n",
        "    CREATE TABLE SuspectCrimes (\n",
        "        SuspectID int,\n",
        "        CrimeID int\n",
        "    );\n",
        "\n",
        "    ### Samples\n",
        "    Given the schema provided, here are some sample questions and their corresponding SQL clues:\n",
        "\n",
        "    Question: Uncover the suspects involved in the 'Robbery' crime.\n",
        "    SQL Clue:\n",
        "    ```sql\n",
        "    SELECT s.SuspectName\n",
        "    FROM Suspects s\n",
        "    JOIN SuspectCrimes sc ON s.SuspectID = sc.SuspectID\n",
        "    JOIN Crimes c ON sc.CrimeID = c.CrimeID\n",
        "    WHERE c.CrimeName = 'Robbery';\n",
        "    ```\n",
        "\n",
        "    Question: Identify the crimes and the number of suspects involved in each.\n",
        "    SQL Clue:\n",
        "    ```sql\n",
        "    SELECT c.CrimeName, COUNT(sc.SuspectID) as NumberOfSuspects\n",
        "    FROM Crimes c\n",
        "    LEFT JOIN SuspectCrimes sc ON c.CrimeID = sc.CrimeID\n",
        "    GROUP BY c.CrimeName;\n",
        "    ```\n",
        "\n",
        "    ### Response\n",
        "    Based on your instructions, here is the SQL query I have generated to answer the question\n",
        "    `Return the name of the suspect with the longest sentence`:\n",
        "    ```sql3\n",
        "    \"\"\"\n",
        "sp_nl2sql6 = sp_nl2sql6.format(question=\"Return the name of the suspect with the longest sentence\")\n",
        "print(sp_nl2sql6)\n",
        "\n"
      ]
    },
    {
      "cell_type": "code",
      "source": [
        "input_sentences = tokenizer(sp_nl2sql6, return_tensors=\"pt\").to('cuda')\n",
        "response = get_outputs(foundation_model, input_sentences, max_new_tokens=400)\n",
        "SQL = tokenizer.batch_decode(response, skip_special_tokens=True)\n",
        "torch.cuda.empty_cache()\n"
      ],
      "metadata": {
        "id": "gaPzAdBSaN0r"
      },
      "execution_count": 65,
      "outputs": []
    },
    {
      "cell_type": "code",
      "source": [
        "print(SQL[0].split(\"```sql3\")[-1].split(\"```\")[0].split(\";\")[0].strip() + \";\")"
      ],
      "metadata": {
        "colab": {
          "base_uri": "https://localhost:8080/"
        },
        "id": "T0huyPn8a8kO",
        "outputId": "13c40315-eca6-485e-d6cf-1cdfb7feb14a"
      },
      "execution_count": 66,
      "outputs": [
        {
          "output_type": "stream",
          "name": "stdout",
          "text": [
            "SELECT s.SuspectName\n",
            "    FROM Suspects s\n",
            "    JOIN SuspectCrimes sc ON s.SuspectID = sc.SuspectID\n",
            "    JOIN Crimes c ON sc.CrimeID = c.CrimeID\n",
            "    WHERE c.CrimeName = 'Robbery'\n",
            "    ORDER BY s.SentenceLength DESC NULLS LAST\n",
            "    LIMIT 1;\n"
          ]
        }
      ]
    },
    {
      "cell_type": "code",
      "source": [
        "sp_nl2sql5 = \"\"\"\n",
        "    ### Instructions:\n",
        "Greetings, Culinary Query Chef! Your challenge is to whip up an SQL query from the ingredients provided in the database schema. Adhere to these rules:\n",
        "- **Carefully consider each word in the question and schema** to create a perfect query dish.\n",
        "- **Consult the sample recipes in the ### Samples section for culinary inspiration.**\n",
        "\n",
        "    ### Input\n",
        "    Generate an SQL query that answers the question below.\n",
        "    This query will run on a database whose schema is represented in this string:\n",
        "\n",
        "    CREATE TABLE Recipes (\n",
        "        RecipeID int,\n",
        "        DishName varchar(255),\n",
        "        ChefName varchar(255),\n",
        "        Rating int\n",
        "    );\n",
        "    CREATE TABLE Ingredients (\n",
        "        IngredientID int,\n",
        "        IngredientName varchar(255)\n",
        "    );\n",
        "    CREATE TABLE RecipeIngredients (\n",
        "        RecipeID int,\n",
        "        IngredientID int\n",
        "    );\n",
        "\n",
        "    ### Samples\n",
        "    Given the schema provided, here are some sample questions and their corresponding SQL recipes:\n",
        "\n",
        "    Question: Find the chefs who have created dishes with 'Tomato'.\n",
        "    SQL Recipe:\n",
        "    ```sql\n",
        "    SELECT r.ChefName\n",
        "    FROM Recipes r\n",
        "    JOIN RecipeIngredients ri ON r.RecipeID = ri.RecipeID\n",
        "    JOIN Ingredients i ON ri.IngredientID = i.IngredientID\n",
        "    WHERE i.IngredientName = 'Tomato';\n",
        "    ```\n",
        "\n",
        "    Question: List the dishes and the number of ingredients in each.\n",
        "    SQL Recipe:\n",
        "    ```sql\n",
        "    SELECT r.DishName, COUNT(ri.IngredientID) as NumberOfIngredients\n",
        "    FROM Recipes r\n",
        "    LEFT JOIN RecipeIngredients ri ON r.RecipeID = ri.RecipeID\n",
        "    GROUP BY r.DishName;\n",
        "    ```\n",
        "\n",
        "    ### Response\n",
        "    Based on your instructions, here is the SQL query crafted to answer the question\n",
        "    `Return the name of the highest-rated dish`:\n",
        "    ```sql3\n",
        "    \"\"\"\n",
        "sp_nl2sql5 = sp_nl2sql5.format(question=\"Return the name of the highest-rated dish\")\n",
        "print(sp_nl2sql5)\n"
      ],
      "metadata": {
        "colab": {
          "base_uri": "https://localhost:8080/"
        },
        "id": "n4y8hnyEq14F",
        "outputId": "d50f6ffb-799f-494c-bdd2-b83d6b5ae6d4"
      },
      "execution_count": 68,
      "outputs": [
        {
          "output_type": "stream",
          "name": "stdout",
          "text": [
            "\n",
            "    ### Instructions:\n",
            "Greetings, Culinary Query Chef! Your challenge is to whip up an SQL query from the ingredients provided in the database schema. Adhere to these rules:\n",
            "- **Carefully consider each word in the question and schema** to create a perfect query dish.\n",
            "- **Consult the sample recipes in the ### Samples section for culinary inspiration.**\n",
            "\n",
            "    ### Input\n",
            "    Generate an SQL query that answers the question below.\n",
            "    This query will run on a database whose schema is represented in this string:\n",
            "\n",
            "    CREATE TABLE Recipes (\n",
            "        RecipeID int,\n",
            "        DishName varchar(255),\n",
            "        ChefName varchar(255),\n",
            "        Rating int\n",
            "    );\n",
            "    CREATE TABLE Ingredients (\n",
            "        IngredientID int,\n",
            "        IngredientName varchar(255)\n",
            "    );\n",
            "    CREATE TABLE RecipeIngredients (\n",
            "        RecipeID int,\n",
            "        IngredientID int\n",
            "    );\n",
            "    \n",
            "    ### Samples\n",
            "    Given the schema provided, here are some sample questions and their corresponding SQL recipes:\n",
            "    \n",
            "    Question: Find the chefs who have created dishes with 'Tomato'.\n",
            "    SQL Recipe:\n",
            "    ```sql\n",
            "    SELECT r.ChefName \n",
            "    FROM Recipes r\n",
            "    JOIN RecipeIngredients ri ON r.RecipeID = ri.RecipeID\n",
            "    JOIN Ingredients i ON ri.IngredientID = i.IngredientID\n",
            "    WHERE i.IngredientName = 'Tomato';\n",
            "    ```\n",
            "\n",
            "    Question: List the dishes and the number of ingredients in each.\n",
            "    SQL Recipe:\n",
            "    ```sql\n",
            "    SELECT r.DishName, COUNT(ri.IngredientID) as NumberOfIngredients\n",
            "    FROM Recipes r\n",
            "    LEFT JOIN RecipeIngredients ri ON r.RecipeID = ri.RecipeID\n",
            "    GROUP BY r.DishName;\n",
            "    ```\n",
            "\n",
            "    ### Response\n",
            "    Based on your instructions, here is the SQL query crafted to answer the question\n",
            "    `Return the name of the highest-rated dish`:\n",
            "    ```sql3\n",
            "    \n"
          ]
        }
      ]
    },
    {
      "cell_type": "code",
      "source": [
        "input_sentences = tokenizer(sp_nl2sql5, return_tensors=\"pt\").to('cuda')\n",
        "response = get_outputs(foundation_model, input_sentences, max_new_tokens=400)\n",
        "SQL = tokenizer.batch_decode(response, skip_special_tokens=True)\n",
        "torch.cuda.empty_cache()"
      ],
      "metadata": {
        "id": "ImOG7gBvq2_c"
      },
      "execution_count": 69,
      "outputs": []
    },
    {
      "cell_type": "code",
      "source": [
        "print(SQL[0].split(\"```sql3\")[-1].split(\"```\")[0].split(\";\")[0].strip() + \";\")"
      ],
      "metadata": {
        "colab": {
          "base_uri": "https://localhost:8080/"
        },
        "id": "iMv8RmsUq3Iq",
        "outputId": "44952b19-3a50-4d94-c26f-b07874ae0c10"
      },
      "execution_count": 70,
      "outputs": [
        {
          "output_type": "stream",
          "name": "stdout",
          "text": [
            "SELECT r.DishName\n",
            "    FROM Recipes r\n",
            "    JOIN RecipeIngredients ri ON r.RecipeID = ri.RecipeID\n",
            "    JOIN Ingredients i ON ri.IngredientID = i.IngredientID\n",
            "    WHERE i.IngredientName = 'Tomato'\n",
            "    GROUP BY r.DishName\n",
            "    HAVING COUNT(ri.IngredientID) = (SELECT MAX(NumberOfIngredients) FROM (SELECT r.DishName, COUNT(ri.IngredmentID) AS NumberOfIngredients\n",
            "    FROM Recipes r\n",
            "    LEFT JOIN RecipeIngredients ri ON r.RecipeID = ri.RecipeID\n",
            "    GROUP BY r.DishName) AS Subquery);\n"
          ]
        }
      ]
    },
    {
      "cell_type": "code",
      "source": [
        "sp_nl2sql7 = \"\"\"\n",
        "    ### Instructions:\n",
        "Greetings, Adventurer! Your quest is to transform a mystical question into an SQL query using the enchanted database schema. Adhere to these rules:\n",
        "- **Thoroughly examine each word in the question and schema** to ensure your query is precise.\n",
        "- **Refer to the magical samples in the ### Samples section to understand the enchanted structure.**\n",
        "\n",
        "    ### Input\n",
        "    Generate an SQL query that answers the question below.\n",
        "    This query will run on a database whose schema is represented in this string:\n",
        "\n",
        "    CREATE TABLE Heroes (\n",
        "        HeroID int,\n",
        "        HeroName varchar(255),\n",
        "        HeroClass varchar(255),\n",
        "        PowerLevel int\n",
        "    );\n",
        "    CREATE TABLE Guilds (\n",
        "        GuildID int,\n",
        "        GuildName varchar(255)\n",
        "    );\n",
        "    CREATE TABLE HeroGuild (\n",
        "        HeroID int,\n",
        "        GuildID int\n",
        "    );\n",
        "\n",
        "    ### Samples\n",
        "    Given the schema provided, here are some sample questions and their corresponding SQL spells:\n",
        "\n",
        "    Question: Identify the heroes in the 'Warriors' guild.\n",
        "    SQL Spell:\n",
        "    ```sql\n",
        "    SELECT h.HeroName\n",
        "    FROM Heroes h\n",
        "    JOIN HeroGuild hg ON h.HeroID = hg.HeroID\n",
        "    JOIN Guilds g ON hg.GuildID = g.GuildID\n",
        "    WHERE g.GuildName = 'Warriors';\n",
        "    ```\n",
        "\n",
        "    Question: Count the number of heroes per guild.\n",
        "    SQL Spell:\n",
        "    ```sql\n",
        "    SELECT g.GuildName, COUNT(hg.HeroID) as NumberOfHeroes\n",
        "    FROM Guilds g\n",
        "    LEFT JOIN HeroGuild hg ON g.GuildID = hg.GuildID\n",
        "    GROUP BY g.GuildName;\n",
        "    ```\n",
        "\n",
        "    ### Response\n",
        "    Based on your instructions, here is the SQL query I have generated to answer the question\n",
        "    `Return the name of the hero with the highest power level`:\n",
        "    ```sql3\n",
        "    \"\"\"\n",
        "sp_nl2sql7 = sp_nl2sql7.format(question=\"Return the name of the hero with the highest power level\")\n",
        "print(sp_nl2sql7)\n",
        "\n"
      ],
      "metadata": {
        "colab": {
          "base_uri": "https://localhost:8080/"
        },
        "id": "r36uhFFKshg5",
        "outputId": "358d33b0-05fc-448b-cf80-8575258e5b49"
      },
      "execution_count": 71,
      "outputs": [
        {
          "output_type": "stream",
          "name": "stdout",
          "text": [
            "\n",
            "    ### Instructions:\n",
            "Greetings, Adventurer! Your quest is to transform a mystical question into an SQL query using the enchanted database schema. Adhere to these rules:\n",
            "- **Thoroughly examine each word in the question and schema** to ensure your query is precise.\n",
            "- **Refer to the magical samples in the ### Samples section to understand the enchanted structure.**\n",
            "\n",
            "    ### Input\n",
            "    Generate an SQL query that answers the question below.\n",
            "    This query will run on a database whose schema is represented in this string:\n",
            "\n",
            "    CREATE TABLE Heroes (\n",
            "        HeroID int,\n",
            "        HeroName varchar(255),\n",
            "        HeroClass varchar(255),\n",
            "        PowerLevel int\n",
            "    );\n",
            "    CREATE TABLE Guilds (\n",
            "        GuildID int,\n",
            "        GuildName varchar(255)\n",
            "    );\n",
            "    CREATE TABLE HeroGuild (\n",
            "        HeroID int,\n",
            "        GuildID int\n",
            "    );\n",
            "    \n",
            "    ### Samples\n",
            "    Given the schema provided, here are some sample questions and their corresponding SQL spells:\n",
            "    \n",
            "    Question: Identify the heroes in the 'Warriors' guild.\n",
            "    SQL Spell:\n",
            "    ```sql\n",
            "    SELECT h.HeroName \n",
            "    FROM Heroes h\n",
            "    JOIN HeroGuild hg ON h.HeroID = hg.HeroID\n",
            "    JOIN Guilds g ON hg.GuildID = g.GuildID\n",
            "    WHERE g.GuildName = 'Warriors';\n",
            "    ```\n",
            "\n",
            "    Question: Count the number of heroes per guild.\n",
            "    SQL Spell:\n",
            "    ```sql\n",
            "    SELECT g.GuildName, COUNT(hg.HeroID) as NumberOfHeroes\n",
            "    FROM Guilds g\n",
            "    LEFT JOIN HeroGuild hg ON g.GuildID = hg.GuildID\n",
            "    GROUP BY g.GuildName;\n",
            "    ```\n",
            "\n",
            "    ### Response\n",
            "    Based on your instructions, here is the SQL query I have generated to answer the question\n",
            "    `Return the name of the hero with the highest power level`:\n",
            "    ```sql3\n",
            "    \n"
          ]
        }
      ]
    },
    {
      "cell_type": "code",
      "source": [
        "input_sentences = tokenizer(sp_nl2sql7, return_tensors=\"pt\").to('cuda')\n",
        "response = get_outputs(foundation_model, input_sentences, max_new_tokens=400)\n",
        "SQL = tokenizer.batch_decode(response, skip_special_tokens=True)\n",
        "torch.cuda.empty_cache()\n"
      ],
      "metadata": {
        "id": "0Kx6YGWeshtS"
      },
      "execution_count": 72,
      "outputs": []
    },
    {
      "cell_type": "code",
      "source": [
        "print(SQL[0].split(\"```sql3\")[-1].split(\"```\")[0].split(\";\")[0].strip() + \";\")"
      ],
      "metadata": {
        "colab": {
          "base_uri": "https://localhost:8080/"
        },
        "id": "AYF-WYhssh3_",
        "outputId": "b9003317-a074-4fe7-9fb2-22383e866a00"
      },
      "execution_count": 73,
      "outputs": [
        {
          "output_type": "stream",
          "name": "stdout",
          "text": [
            "SELECT Heroes.HeroName\n",
            "    FROM Heroes\n",
            "    ORDER BY Heroes.PowerLevel DESC\n",
            "    LIMIT 1;\n"
          ]
        }
      ]
    },
    {
      "cell_type": "markdown",
      "source": [
        "**Report**\n",
        "* Version 5 envisions their data task as preparing a culinary masterpiece, utilizing a database of recipes and ingredients.\n",
        "\n",
        "* Version 6 transforms the SQL query task into a detective's investigation, making the process exciting by framing it as uncovering clues and solving cases within a database of suspects and crimes.\n",
        "\n",
        "* Version 7 makes the the SQL query task as a fantasy quest, making it an enchanting experience where users embark on an adventure through a database of heroes and guilds."
      ],
      "metadata": {
        "id": "7aQ4dlvHt5kM"
      }
    },
    {
      "cell_type": "markdown",
      "source": [
        "I learned how to use Secret keys instead of OpenAI"
      ],
      "metadata": {
        "id": "Bvd9hg6Uu1ZE"
      }
    }
  ],
  "metadata": {
    "accelerator": "GPU",
    "colab": {
      "gpuType": "T4",
      "provenance": []
    },
    "kernelspec": {
      "display_name": "Python 3 (ipykernel)",
      "language": "python",
      "name": "python3"
    },
    "language_info": {
      "codemirror_mode": {
        "name": "ipython",
        "version": 3
      },
      "file_extension": ".py",
      "mimetype": "text/x-python",
      "name": "python",
      "nbconvert_exporter": "python",
      "pygments_lexer": "ipython3",
      "version": "3.11.8"
    },
    "widgets": {
      "application/vnd.jupyter.widget-state+json": {
        "09c340e4a1f149548e18bc155bfcbe52": {
          "model_module": "@jupyter-widgets/controls",
          "model_name": "HBoxModel",
          "model_module_version": "1.5.0",
          "state": {
            "_dom_classes": [],
            "_model_module": "@jupyter-widgets/controls",
            "_model_module_version": "1.5.0",
            "_model_name": "HBoxModel",
            "_view_count": null,
            "_view_module": "@jupyter-widgets/controls",
            "_view_module_version": "1.5.0",
            "_view_name": "HBoxView",
            "box_style": "",
            "children": [
              "IPY_MODEL_41a364ed8dbe44e99f5cf1a0ad151173",
              "IPY_MODEL_8e29bf6aa7ef4232bacfd525d37a880f",
              "IPY_MODEL_bc46eaa45ccc4cf491bb78f41efd7301"
            ],
            "layout": "IPY_MODEL_87a59922cd7b4622890516e7aca77bf5"
          }
        },
        "41a364ed8dbe44e99f5cf1a0ad151173": {
          "model_module": "@jupyter-widgets/controls",
          "model_name": "HTMLModel",
          "model_module_version": "1.5.0",
          "state": {
            "_dom_classes": [],
            "_model_module": "@jupyter-widgets/controls",
            "_model_module_version": "1.5.0",
            "_model_name": "HTMLModel",
            "_view_count": null,
            "_view_module": "@jupyter-widgets/controls",
            "_view_module_version": "1.5.0",
            "_view_name": "HTMLView",
            "description": "",
            "description_tooltip": null,
            "layout": "IPY_MODEL_8e4d6ed6a1f743c8833c7ebf96ad9f10",
            "placeholder": "​",
            "style": "IPY_MODEL_088d4d89b9974c52b510e82a9544b378",
            "value": "Loading checkpoint shards: 100%"
          }
        },
        "8e29bf6aa7ef4232bacfd525d37a880f": {
          "model_module": "@jupyter-widgets/controls",
          "model_name": "FloatProgressModel",
          "model_module_version": "1.5.0",
          "state": {
            "_dom_classes": [],
            "_model_module": "@jupyter-widgets/controls",
            "_model_module_version": "1.5.0",
            "_model_name": "FloatProgressModel",
            "_view_count": null,
            "_view_module": "@jupyter-widgets/controls",
            "_view_module_version": "1.5.0",
            "_view_name": "ProgressView",
            "bar_style": "success",
            "description": "",
            "description_tooltip": null,
            "layout": "IPY_MODEL_a879b195702f4ad19149666589be9110",
            "max": 2,
            "min": 0,
            "orientation": "horizontal",
            "style": "IPY_MODEL_e2246da7b563473e996df0b1985c3bbb",
            "value": 2
          }
        },
        "bc46eaa45ccc4cf491bb78f41efd7301": {
          "model_module": "@jupyter-widgets/controls",
          "model_name": "HTMLModel",
          "model_module_version": "1.5.0",
          "state": {
            "_dom_classes": [],
            "_model_module": "@jupyter-widgets/controls",
            "_model_module_version": "1.5.0",
            "_model_name": "HTMLModel",
            "_view_count": null,
            "_view_module": "@jupyter-widgets/controls",
            "_view_module_version": "1.5.0",
            "_view_name": "HTMLView",
            "description": "",
            "description_tooltip": null,
            "layout": "IPY_MODEL_18c87510ef89485f8b10ad5c8867cb66",
            "placeholder": "​",
            "style": "IPY_MODEL_f4430edd9bde4e7e81374e2efcb048c1",
            "value": " 2/2 [01:19&lt;00:00, 37.31s/it]"
          }
        },
        "87a59922cd7b4622890516e7aca77bf5": {
          "model_module": "@jupyter-widgets/base",
          "model_name": "LayoutModel",
          "model_module_version": "1.2.0",
          "state": {
            "_model_module": "@jupyter-widgets/base",
            "_model_module_version": "1.2.0",
            "_model_name": "LayoutModel",
            "_view_count": null,
            "_view_module": "@jupyter-widgets/base",
            "_view_module_version": "1.2.0",
            "_view_name": "LayoutView",
            "align_content": null,
            "align_items": null,
            "align_self": null,
            "border": null,
            "bottom": null,
            "display": null,
            "flex": null,
            "flex_flow": null,
            "grid_area": null,
            "grid_auto_columns": null,
            "grid_auto_flow": null,
            "grid_auto_rows": null,
            "grid_column": null,
            "grid_gap": null,
            "grid_row": null,
            "grid_template_areas": null,
            "grid_template_columns": null,
            "grid_template_rows": null,
            "height": null,
            "justify_content": null,
            "justify_items": null,
            "left": null,
            "margin": null,
            "max_height": null,
            "max_width": null,
            "min_height": null,
            "min_width": null,
            "object_fit": null,
            "object_position": null,
            "order": null,
            "overflow": null,
            "overflow_x": null,
            "overflow_y": null,
            "padding": null,
            "right": null,
            "top": null,
            "visibility": null,
            "width": null
          }
        },
        "8e4d6ed6a1f743c8833c7ebf96ad9f10": {
          "model_module": "@jupyter-widgets/base",
          "model_name": "LayoutModel",
          "model_module_version": "1.2.0",
          "state": {
            "_model_module": "@jupyter-widgets/base",
            "_model_module_version": "1.2.0",
            "_model_name": "LayoutModel",
            "_view_count": null,
            "_view_module": "@jupyter-widgets/base",
            "_view_module_version": "1.2.0",
            "_view_name": "LayoutView",
            "align_content": null,
            "align_items": null,
            "align_self": null,
            "border": null,
            "bottom": null,
            "display": null,
            "flex": null,
            "flex_flow": null,
            "grid_area": null,
            "grid_auto_columns": null,
            "grid_auto_flow": null,
            "grid_auto_rows": null,
            "grid_column": null,
            "grid_gap": null,
            "grid_row": null,
            "grid_template_areas": null,
            "grid_template_columns": null,
            "grid_template_rows": null,
            "height": null,
            "justify_content": null,
            "justify_items": null,
            "left": null,
            "margin": null,
            "max_height": null,
            "max_width": null,
            "min_height": null,
            "min_width": null,
            "object_fit": null,
            "object_position": null,
            "order": null,
            "overflow": null,
            "overflow_x": null,
            "overflow_y": null,
            "padding": null,
            "right": null,
            "top": null,
            "visibility": null,
            "width": null
          }
        },
        "088d4d89b9974c52b510e82a9544b378": {
          "model_module": "@jupyter-widgets/controls",
          "model_name": "DescriptionStyleModel",
          "model_module_version": "1.5.0",
          "state": {
            "_model_module": "@jupyter-widgets/controls",
            "_model_module_version": "1.5.0",
            "_model_name": "DescriptionStyleModel",
            "_view_count": null,
            "_view_module": "@jupyter-widgets/base",
            "_view_module_version": "1.2.0",
            "_view_name": "StyleView",
            "description_width": ""
          }
        },
        "a879b195702f4ad19149666589be9110": {
          "model_module": "@jupyter-widgets/base",
          "model_name": "LayoutModel",
          "model_module_version": "1.2.0",
          "state": {
            "_model_module": "@jupyter-widgets/base",
            "_model_module_version": "1.2.0",
            "_model_name": "LayoutModel",
            "_view_count": null,
            "_view_module": "@jupyter-widgets/base",
            "_view_module_version": "1.2.0",
            "_view_name": "LayoutView",
            "align_content": null,
            "align_items": null,
            "align_self": null,
            "border": null,
            "bottom": null,
            "display": null,
            "flex": null,
            "flex_flow": null,
            "grid_area": null,
            "grid_auto_columns": null,
            "grid_auto_flow": null,
            "grid_auto_rows": null,
            "grid_column": null,
            "grid_gap": null,
            "grid_row": null,
            "grid_template_areas": null,
            "grid_template_columns": null,
            "grid_template_rows": null,
            "height": null,
            "justify_content": null,
            "justify_items": null,
            "left": null,
            "margin": null,
            "max_height": null,
            "max_width": null,
            "min_height": null,
            "min_width": null,
            "object_fit": null,
            "object_position": null,
            "order": null,
            "overflow": null,
            "overflow_x": null,
            "overflow_y": null,
            "padding": null,
            "right": null,
            "top": null,
            "visibility": null,
            "width": null
          }
        },
        "e2246da7b563473e996df0b1985c3bbb": {
          "model_module": "@jupyter-widgets/controls",
          "model_name": "ProgressStyleModel",
          "model_module_version": "1.5.0",
          "state": {
            "_model_module": "@jupyter-widgets/controls",
            "_model_module_version": "1.5.0",
            "_model_name": "ProgressStyleModel",
            "_view_count": null,
            "_view_module": "@jupyter-widgets/base",
            "_view_module_version": "1.2.0",
            "_view_name": "StyleView",
            "bar_color": null,
            "description_width": ""
          }
        },
        "18c87510ef89485f8b10ad5c8867cb66": {
          "model_module": "@jupyter-widgets/base",
          "model_name": "LayoutModel",
          "model_module_version": "1.2.0",
          "state": {
            "_model_module": "@jupyter-widgets/base",
            "_model_module_version": "1.2.0",
            "_model_name": "LayoutModel",
            "_view_count": null,
            "_view_module": "@jupyter-widgets/base",
            "_view_module_version": "1.2.0",
            "_view_name": "LayoutView",
            "align_content": null,
            "align_items": null,
            "align_self": null,
            "border": null,
            "bottom": null,
            "display": null,
            "flex": null,
            "flex_flow": null,
            "grid_area": null,
            "grid_auto_columns": null,
            "grid_auto_flow": null,
            "grid_auto_rows": null,
            "grid_column": null,
            "grid_gap": null,
            "grid_row": null,
            "grid_template_areas": null,
            "grid_template_columns": null,
            "grid_template_rows": null,
            "height": null,
            "justify_content": null,
            "justify_items": null,
            "left": null,
            "margin": null,
            "max_height": null,
            "max_width": null,
            "min_height": null,
            "min_width": null,
            "object_fit": null,
            "object_position": null,
            "order": null,
            "overflow": null,
            "overflow_x": null,
            "overflow_y": null,
            "padding": null,
            "right": null,
            "top": null,
            "visibility": null,
            "width": null
          }
        },
        "f4430edd9bde4e7e81374e2efcb048c1": {
          "model_module": "@jupyter-widgets/controls",
          "model_name": "DescriptionStyleModel",
          "model_module_version": "1.5.0",
          "state": {
            "_model_module": "@jupyter-widgets/controls",
            "_model_module_version": "1.5.0",
            "_model_name": "DescriptionStyleModel",
            "_view_count": null,
            "_view_module": "@jupyter-widgets/base",
            "_view_module_version": "1.2.0",
            "_view_name": "StyleView",
            "description_width": ""
          }
        }
      }
    }
  },
  "nbformat": 4,
  "nbformat_minor": 0
}